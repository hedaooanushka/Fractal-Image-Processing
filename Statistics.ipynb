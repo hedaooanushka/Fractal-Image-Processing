{
 "cells": [
  {
   "cell_type": "code",
   "execution_count": 2,
   "id": "bcd06965",
   "metadata": {},
   "outputs": [],
   "source": [
    "import numpy as np\n",
    "import pandas as pd\n",
    "import seaborn as sns\n",
    "import matplotlib.pyplot as plt"
   ]
  },
  {
   "cell_type": "code",
   "execution_count": 5,
   "id": "dd7510a5",
   "metadata": {},
   "outputs": [],
   "source": [
    "df = pd.DataFrame([\"lenna\", \"koala\", \"cat\", \"sunflower\", \"oggy\", \"android\"], columns=[\"images\"])"
   ]
  },
  {
   "cell_type": "code",
   "execution_count": 6,
   "id": "a7aa0c48",
   "metadata": {},
   "outputs": [
    {
     "data": {
      "text/html": [
       "<div>\n",
       "<style scoped>\n",
       "    .dataframe tbody tr th:only-of-type {\n",
       "        vertical-align: middle;\n",
       "    }\n",
       "\n",
       "    .dataframe tbody tr th {\n",
       "        vertical-align: top;\n",
       "    }\n",
       "\n",
       "    .dataframe thead th {\n",
       "        text-align: right;\n",
       "    }\n",
       "</style>\n",
       "<table border=\"1\" class=\"dataframe\">\n",
       "  <thead>\n",
       "    <tr style=\"text-align: right;\">\n",
       "      <th></th>\n",
       "      <th>images</th>\n",
       "    </tr>\n",
       "  </thead>\n",
       "  <tbody>\n",
       "    <tr>\n",
       "      <th>0</th>\n",
       "      <td>lenna</td>\n",
       "    </tr>\n",
       "    <tr>\n",
       "      <th>1</th>\n",
       "      <td>koala</td>\n",
       "    </tr>\n",
       "    <tr>\n",
       "      <th>2</th>\n",
       "      <td>cat</td>\n",
       "    </tr>\n",
       "    <tr>\n",
       "      <th>3</th>\n",
       "      <td>sunflower</td>\n",
       "    </tr>\n",
       "    <tr>\n",
       "      <th>4</th>\n",
       "      <td>oggy</td>\n",
       "    </tr>\n",
       "    <tr>\n",
       "      <th>5</th>\n",
       "      <td>android</td>\n",
       "    </tr>\n",
       "  </tbody>\n",
       "</table>\n",
       "</div>"
      ],
      "text/plain": [
       "      images\n",
       "0      lenna\n",
       "1      koala\n",
       "2        cat\n",
       "3  sunflower\n",
       "4       oggy\n",
       "5    android"
      ]
     },
     "execution_count": 6,
     "metadata": {},
     "output_type": "execute_result"
    }
   ],
   "source": [
    "df"
   ]
  },
  {
   "cell_type": "code",
   "execution_count": 7,
   "id": "202f227e",
   "metadata": {},
   "outputs": [],
   "source": [
    "df[\"original_file_size(mb)\"] = [87, 13, 12, 21, 6, 6] "
   ]
  },
  {
   "cell_type": "code",
   "execution_count": 9,
   "id": "bb1ec1e3",
   "metadata": {},
   "outputs": [],
   "source": [
    "df[\"compressed_file_size(mb)\"] = [9, 10, 8, 4.96, 3, 2]"
   ]
  },
  {
   "cell_type": "code",
   "execution_count": 16,
   "id": "9009f637",
   "metadata": {},
   "outputs": [],
   "source": [
    "df[\"PSNR_value\"] = [32.5142, 31.8612, 28.4723, 30.1459, 33.0566, 37.210 ]"
   ]
  },
  {
   "cell_type": "code",
   "execution_count": 14,
   "id": "867008a6",
   "metadata": {},
   "outputs": [],
   "source": [
    "df[\"Compression_ratio\"] = [9.66, 1.3, 1.5, 4.23, 2, 3]"
   ]
  },
  {
   "cell_type": "code",
   "execution_count": 20,
   "id": "381a8137",
   "metadata": {},
   "outputs": [
    {
     "data": {
      "text/html": [
       "<div>\n",
       "<style scoped>\n",
       "    .dataframe tbody tr th:only-of-type {\n",
       "        vertical-align: middle;\n",
       "    }\n",
       "\n",
       "    .dataframe tbody tr th {\n",
       "        vertical-align: top;\n",
       "    }\n",
       "\n",
       "    .dataframe thead th {\n",
       "        text-align: right;\n",
       "    }\n",
       "</style>\n",
       "<table border=\"1\" class=\"dataframe\">\n",
       "  <thead>\n",
       "    <tr style=\"text-align: right;\">\n",
       "      <th></th>\n",
       "      <th>images</th>\n",
       "      <th>original_file_size(mb)</th>\n",
       "      <th>compressed_file_size(mb)</th>\n",
       "      <th>Compression_ratio</th>\n",
       "      <th>PSNR_value</th>\n",
       "    </tr>\n",
       "  </thead>\n",
       "  <tbody>\n",
       "    <tr>\n",
       "      <th>0</th>\n",
       "      <td>lenna</td>\n",
       "      <td>87</td>\n",
       "      <td>9.00</td>\n",
       "      <td>9.66</td>\n",
       "      <td>32.5142</td>\n",
       "    </tr>\n",
       "    <tr>\n",
       "      <th>1</th>\n",
       "      <td>koala</td>\n",
       "      <td>13</td>\n",
       "      <td>10.00</td>\n",
       "      <td>1.30</td>\n",
       "      <td>31.8612</td>\n",
       "    </tr>\n",
       "    <tr>\n",
       "      <th>2</th>\n",
       "      <td>cat</td>\n",
       "      <td>12</td>\n",
       "      <td>8.00</td>\n",
       "      <td>1.50</td>\n",
       "      <td>28.4723</td>\n",
       "    </tr>\n",
       "    <tr>\n",
       "      <th>3</th>\n",
       "      <td>sunflower</td>\n",
       "      <td>21</td>\n",
       "      <td>4.96</td>\n",
       "      <td>4.23</td>\n",
       "      <td>30.1459</td>\n",
       "    </tr>\n",
       "    <tr>\n",
       "      <th>4</th>\n",
       "      <td>oggy</td>\n",
       "      <td>6</td>\n",
       "      <td>3.00</td>\n",
       "      <td>2.00</td>\n",
       "      <td>33.0566</td>\n",
       "    </tr>\n",
       "    <tr>\n",
       "      <th>5</th>\n",
       "      <td>android</td>\n",
       "      <td>6</td>\n",
       "      <td>2.00</td>\n",
       "      <td>3.00</td>\n",
       "      <td>37.2100</td>\n",
       "    </tr>\n",
       "  </tbody>\n",
       "</table>\n",
       "</div>"
      ],
      "text/plain": [
       "      images  original_file_size(mb)  compressed_file_size(mb)  \\\n",
       "0      lenna                      87                      9.00   \n",
       "1      koala                      13                     10.00   \n",
       "2        cat                      12                      8.00   \n",
       "3  sunflower                      21                      4.96   \n",
       "4       oggy                       6                      3.00   \n",
       "5    android                       6                      2.00   \n",
       "\n",
       "   Compression_ratio  PSNR_value  \n",
       "0               9.66     32.5142  \n",
       "1               1.30     31.8612  \n",
       "2               1.50     28.4723  \n",
       "3               4.23     30.1459  \n",
       "4               2.00     33.0566  \n",
       "5               3.00     37.2100  "
      ]
     },
     "execution_count": 20,
     "metadata": {},
     "output_type": "execute_result"
    }
   ],
   "source": [
    "df"
   ]
  },
  {
   "cell_type": "code",
   "execution_count": null,
   "id": "a57a78de",
   "metadata": {},
   "outputs": [],
   "source": []
  }
 ],
 "metadata": {
  "kernelspec": {
   "display_name": "Python 3",
   "language": "python",
   "name": "python3"
  },
  "language_info": {
   "codemirror_mode": {
    "name": "ipython",
    "version": 3
   },
   "file_extension": ".py",
   "mimetype": "text/x-python",
   "name": "python",
   "nbconvert_exporter": "python",
   "pygments_lexer": "ipython3",
   "version": "3.8.5"
  }
 },
 "nbformat": 4,
 "nbformat_minor": 5
}
